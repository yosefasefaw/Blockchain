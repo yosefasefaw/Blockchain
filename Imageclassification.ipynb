{
  "nbformat": 4,
  "nbformat_minor": 0,
  "metadata": {
    "colab": {
      "provenance": [],
      "authorship_tag": "ABX9TyOk9e90P6YFrI1dfkROayNZ",
      "include_colab_link": true
    },
    "kernelspec": {
      "name": "python3",
      "display_name": "Python 3"
    },
    "language_info": {
      "name": "python"
    },
    "accelerator": "GPU"
  },
  "cells": [
    {
      "cell_type": "markdown",
      "metadata": {
        "id": "view-in-github",
        "colab_type": "text"
      },
      "source": [
        "<a href=\"https://colab.research.google.com/github/yosefasefaw/Blockchain/blob/main/Imageclassification.ipynb\" target=\"_parent\"><img src=\"https://colab.research.google.com/assets/colab-badge.svg\" alt=\"Open In Colab\"/></a>"
      ]
    },
    {
      "cell_type": "code",
      "execution_count": 1,
      "metadata": {
        "colab": {
          "base_uri": "https://localhost:8080/"
        },
        "id": "P5cBVgi0r03O",
        "outputId": "d46fb03b-8a05-4069-82bb-240b7b0d14b4"
      },
      "outputs": [
        {
          "output_type": "stream",
          "name": "stdout",
          "text": [
            "\u001b[K     |████████████████████████████████| 719 kB 7.7 MB/s \n",
            "\u001b[K     |████████████████████████████████| 4.9 MB 42.3 MB/s \n",
            "\u001b[K     |████████████████████████████████| 431 kB 62.9 MB/s \n",
            "\u001b[K     |████████████████████████████████| 1.3 MB 40.2 MB/s \n",
            "\u001b[K     |████████████████████████████████| 120 kB 62.3 MB/s \n",
            "\u001b[K     |████████████████████████████████| 115 kB 30.8 MB/s \n",
            "\u001b[K     |████████████████████████████████| 212 kB 47.7 MB/s \n",
            "\u001b[K     |████████████████████████████████| 127 kB 62.9 MB/s \n",
            "\u001b[K     |████████████████████████████████| 6.6 MB 57.5 MB/s \n",
            "\u001b[?25hMounted at /content/gdrive\n"
          ]
        }
      ],
      "source": [
        "#hide\n",
        "! [ -e /content ] && pip install -Uqq fastbook\n",
        "import fastbook\n",
        "fastbook.setup_book()"
      ]
    },
    {
      "cell_type": "code",
      "source": [
        "#importing the relevant libraries \n",
        "from fastbook import *\n",
        "from fastai.vision.widgets import *"
      ],
      "metadata": {
        "id": "EIEy2t7wr9s-"
      },
      "execution_count": 2,
      "outputs": []
    },
    {
      "cell_type": "code",
      "source": [
        "search_images_ddg"
      ],
      "metadata": {
        "colab": {
          "base_uri": "https://localhost:8080/"
        },
        "id": "Fp4gVAPCuA5D",
        "outputId": "e294f0f6-e89c-4d98-e0de-b1ea1d1d30ab"
      },
      "execution_count": 3,
      "outputs": [
        {
          "output_type": "execute_result",
          "data": {
            "text/plain": [
              "<function fastbook.search_images_ddg(term, max_images=200)>"
            ]
          },
          "metadata": {},
          "execution_count": 3
        }
      ]
    },
    {
      "cell_type": "code",
      "source": [
        "ims = search_images_ddg('grizzly bear')\n",
        "\n",
        "len(ims)"
      ],
      "metadata": {
        "colab": {
          "base_uri": "https://localhost:8080/"
        },
        "id": "jkDVXN0jsRXQ",
        "outputId": "941369fe-9872-48db-8c49-6a980bba2d22"
      },
      "execution_count": 4,
      "outputs": [
        {
          "output_type": "execute_result",
          "data": {
            "text/plain": [
              "200"
            ]
          },
          "metadata": {},
          "execution_count": 4
        }
      ]
    },
    {
      "cell_type": "code",
      "source": [
        "dest = 'images/grizzly.jpg'\n",
        "download_url(ims[0], dest, show_progress=False)"
      ],
      "metadata": {
        "colab": {
          "base_uri": "https://localhost:8080/"
        },
        "id": "QNvTwu2AuD4n",
        "outputId": "69622ef3-4360-4ac1-cf5d-1c3a20a4a75e"
      },
      "execution_count": 5,
      "outputs": [
        {
          "output_type": "execute_result",
          "data": {
            "text/plain": [
              "Path('images/grizzly.jpg')"
            ]
          },
          "metadata": {},
          "execution_count": 5
        }
      ]
    },
    {
      "cell_type": "code",
      "source": [
        "im = Image.open(dest)\n",
        "im.to_thumb(128,128)"
      ],
      "metadata": {
        "colab": {
          "base_uri": "https://localhost:8080/",
          "height": 89
        },
        "id": "7s_oDFXUuGXj",
        "outputId": "1b3661cd-334a-4d0b-bfd2-cf5ab8f8cd08"
      },
      "execution_count": 6,
      "outputs": [
        {
          "output_type": "execute_result",
          "data": {
            "text/plain": [
              "<PIL.Image.Image image mode=RGB size=128x72>"
            ],
            "image/png": "[encoded data removed]"
          },
          "metadata": {},
          "execution_count": 6
        }
      ]
    },
    {
      "cell_type": "code",
      "source": [
        "bear_types = 'grizzly','black','teddy'\n",
        "path = Path('bears')"
      ],
      "metadata": {
        "id": "046RmpDGuIzg"
      },
      "execution_count": 7,
      "outputs": []
    },
    {
      "cell_type": "code",
      "source": [
        "if not path.exists():\n",
        "    path.mkdir()\n",
        "    for o in bear_types:\n",
        "        dest = (path/o)\n",
        "        dest.mkdir(exist_ok=True)\n",
        "        results = search_images_ddg(f'{o} bear')\n",
        "        download_images(dest, urls=results)"
      ],
      "metadata": {
        "id": "YQbOyLhVuJcQ"
      },
      "execution_count": 8,
      "outputs": []
    },
    {
      "cell_type": "code",
      "source": [
        "fns = get_image_files(path)\n",
        "fns"
      ],
      "metadata": {
        "colab": {
          "base_uri": "https://localhost:8080/"
        },
        "id": "_Wl-mbIkuNse",
        "outputId": "237c581f-8c41-412d-c513-d7cfa32441c2"
      },
      "execution_count": 9,
      "outputs": [
        {
          "output_type": "execute_result",
          "data": {
            "text/plain": [
              "(#575) [Path('bears/teddy/f7c80952-8278-43b7-a3cd-96aa00c61f5b.png'),Path('bears/teddy/eb04553f-7aa9-46b6-b543-275c1b5b62bb.jpg'),Path('bears/teddy/1d06dafa-7a49-41e1-9cc3-c5f9c637c2ef.png'),Path('bears/teddy/bf931bcb-e037-4b5e-be67-bd7f71e3b863.jpeg'),Path('bears/teddy/9b379687-39e6-4f01-8c75-82d6e8276f54.jpg'),Path('bears/teddy/a6918251-6eaf-4f67-ac3f-6d72588dd45a.jpg'),Path('bears/teddy/21555776-da4e-4f02-a8c2-556e7d7226cf.jpg'),Path('bears/teddy/35ce1c10-5047-4537-99c1-bfa5b73f8ed4.jpg'),Path('bears/teddy/4dd7c490-a467-4108-aca3-ea2b9aa7171a.jpg'),Path('bears/teddy/3fcd2b26-e65c-471a-ab8a-892b96706e4c.jpg')...]"
            ]
          },
          "metadata": {},
          "execution_count": 9
        }
      ]
    },
    {
      "cell_type": "code",
      "source": [
        "failed = verify_images(fns)\n",
        "failed"
      ],
      "metadata": {
        "colab": {
          "base_uri": "https://localhost:8080/"
        },
        "id": "oE_9G0GWuQYr",
        "outputId": "db30e65d-460a-4184-8faf-ee8f56019784"
      },
      "execution_count": 10,
      "outputs": [
        {
          "output_type": "execute_result",
          "data": {
            "text/plain": [
              "(#12) [Path('bears/teddy/d1608c32-ecd8-4f6b-825f-5920d3d6b121.jpg'),Path('bears/teddy/88a28bc9-4d21-406c-905a-143db1ef89ac.jpg'),Path('bears/teddy/5f0f3597-f41d-4a70-a3f5-a69d64e44c15.jpg'),Path('bears/teddy/9d54fa4b-27e7-4357-872b-6bf865dbc6da.jpg'),Path('bears/teddy/d454ffcf-ac5d-4642-aafc-4d21135f4957.jpg'),Path('bears/teddy/347bdca9-34ab-4161-bb1f-c583f91c8fe3.jpg'),Path('bears/teddy/d29004e5-4ed0-4f85-b195-2c17a48287a9.jpg'),Path('bears/teddy/4f91d771-a8c1-4cb1-8be4-ee04b92ad7f9.jpg'),Path('bears/teddy/c8beea9d-c0d7-4cad-b3fa-a06a65e598ca.jpg'),Path('bears/teddy/75d770de-a35b-456b-91e4-b89f2005b17e.jpg')...]"
            ]
          },
          "metadata": {},
          "execution_count": 10
        }
      ]
    },
    {
      "cell_type": "code",
      "source": [
        "failed.map(Path.unlink);"
      ],
      "metadata": {
        "id": "APrZ6kr-uT9x"
      },
      "execution_count": 11,
      "outputs": []
    },
    {
      "cell_type": "code",
      "source": [
        "\n",
        "\n"
      ],
      "metadata": {
        "id": "Z9j1u3Dnv2HG"
      },
      "execution_count": 14,
      "outputs": []
    },
    {
      "cell_type": "code",
      "source": [],
      "metadata": {
        "id": "fBSGZg6cvSug"
      },
      "execution_count": null,
      "outputs": []
    }
  ]
}