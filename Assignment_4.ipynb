{
  "nbformat": 4,
  "nbformat_minor": 0,
  "metadata": {
    "colab": {
      "name": "Assignment_4.ipynb",
      "provenance": [],
      "collapsed_sections": [],
      "include_colab_link": true
    },
    "kernelspec": {
      "display_name": "Python 3",
      "language": "python",
      "name": "python3"
    },
    "language_info": {
      "codemirror_mode": {
        "name": "ipython",
        "version": 3
      },
      "file_extension": ".py",
      "mimetype": "text/x-python",
      "name": "python",
      "nbconvert_exporter": "python",
      "pygments_lexer": "ipython3",
      "version": "3.8.8"
    }
  },
  "cells": [
    {
      "cell_type": "markdown",
      "metadata": {
        "id": "view-in-github",
        "colab_type": "text"
      },
      "source": [
        "<a href=\"https://colab.research.google.com/github/yosefasefaw/Blockchain/blob/main/Assignment_4.ipynb\" target=\"_parent\"><img src=\"https://colab.research.google.com/assets/colab-badge.svg\" alt=\"Open In Colab\"/></a>"
      ]
    },
    {
      "cell_type": "markdown",
      "metadata": {
        "id": "18S7zZE4AUqQ"
      },
      "source": [
        "# Assignment 4\n",
        "\n",
        "This is Assignment **4**. It will be aligned with **Quiz 4**.\n",
        "\n",
        "Please read the task description carefully and implement **only** what the tasks wants you to implement. Follow the instructions from the task description. There might be tasks that require you to write things you would do differently **but** you have to stay with the description. The test cases below each input cell is the gold standard. Because of the variability of different possible implementations, there will not be a test case for each task.\n",
        "\n",
        "Try to implement the tasks yourself or in a small group. If you blindly copy a solution from the internet or other students, you will not learn anything from it. Understand the solution! This takes practice.\n",
        "\n",
        "This assignment expects you to transfer knowledge from the lecture. There might be tasks where you have to read and investigate the [Python Standard Library](https://docs.python.org/3/library/) to find the documentation for a function that is used or that you want to use.\n",
        "\n",
        "For any given task, all in Python included modules are \"allowed\" to use.\n",
        "\n",
        "This assignment will use the third-party module [Pandas](https://pandas.pydata.org/). In Google Colab and Anaconda, it is already installed. If you see an `ImportError` in the next cell, run `%pip install pandas` to install this module.\n",
        "\n",
        "We'll load the file `database.sqlite` throughout the assignment. Make sure that it is in the **same** path as the notebook. When running in Google Colab, you have to upload this file.\n",
        "\n",
        "\n",
        "Do not modify the _test cells_, by doing so you cheat your solution which is not helpful for your learning process."
      ]
    },
    {
      "cell_type": "markdown",
      "metadata": {
        "id": "jbrpKTH7JPPx"
      },
      "source": [
        "---\n",
        "# Task 0: Loading the database file.\n",
        "\n",
        "For **reading** from a database, we'll use [Pandas](https://pandas.pydata.org/), for **writing** we'll use the included `sqlite3` module."
      ]
    },
    {
      "cell_type": "code",
      "metadata": {
        "id": "QXnd31sdIgKg"
      },
      "source": [
        "import sqlite3\n",
        "import pandas as pd"
      ],
      "execution_count": 9,
      "outputs": []
    },
    {
      "cell_type": "markdown",
      "metadata": {
        "id": "4nhaMueNJJlk"
      },
      "source": [
        ""
      ]
    },
    {
      "cell_type": "markdown",
      "metadata": {
        "id": "VEH3Z7T2IgKg"
      },
      "source": [
        "Execute the next cell to try to load the database file. You'll see an error if it doesn't load correctly.\n",
        "\n",
        "Afterwards, there will be the variable `DB` which holds the **Connection** to the database."
      ]
    },
    {
      "cell_type": "code",
      "metadata": {
        "id": "xb0d0o7QIgKh"
      },
      "source": [
        "from pathlib import Path\n",
        "\n",
        "DB_FILE = Path('database.sqlite')\n",
        "if not DB_FILE.exists():\n",
        "    print(\"\\033[1;41m\", \" \" * 45)\n",
        "    print(\"     Please upload the the Database file.     \")\n",
        "    print(\" \" * 45, \"\\033[0m\")\n",
        "\n",
        "DB = sqlite3.connect(DB_FILE)\n",
        "_ = DB.execute(\"PRAGMA foreign_keys = 1\")"
      ],
      "execution_count": 10,
      "outputs": []
    },
    {
      "cell_type": "markdown",
      "metadata": {
        "id": "ir-0K_9gIgKh"
      },
      "source": [
        "## Database Structure\n",
        "\n",
        "Here, we have an overengineered database structure with more tables than we need. However, this benefits exercising massive joins over multiple tables.\n",
        "We have students, who have names and a date of birth. Each student is registered in our university and has therefore a `student_id` and a starting semester (`immatriculation`). If the `exmatriculation` semester is not set (meaning, it is `NULL`), this student is currently actively registered.\n",
        "Each student is enrolled into 1 or 2 courses per semester and will have a grade for this enrollment. This university allows students to enroll into the same course multiple times and also take the exam every time.\n",
        "\n",
        "The ID for each table is always called `id`. So, if you use `pd.read_sql`, you can always tell _pandas_ to use `index_col=['id']`.\n",
        "\n",
        "The database has the following tables. The database has primary keys AND foreign keys. They are enforced, meaning you will receive an error if you add an entry with an ID that already exists or you want to add an entry with a foreign key that does not exist in the reference table.\n",
        "\n",
        "\n",
        "The following constraints are given:\n",
        "   - `INT`: this value is an integer\n",
        "   - `REAL/FLOAT`: this value is a float\n",
        "   - `STRING`: this value a string\n",
        "   - `PRIMARY KEY`: this is a unique identifier for this table\n",
        "   - `FOREIGN KEY`: this is an identifier for the mentioned table\n",
        "   - `NOT NULL`: this value can't be NULL/None\n",
        "   - `NULLABLE`: this value *can* be NULL/None\n",
        "\n",
        "- Table `students`:  \n",
        "    - id: INT, PRIMARY KEY, NOT NULL\n",
        "    - first_name: STRING, NOT NULL\n",
        "    - last_name: STRING, NOT NULL\n",
        "    - date_of_birth: DATE (YYYY-MM-DD), NOT NULL\n",
        "- Table `registrations`:\n",
        "    - id: INT, PRIMARY KEY, NOT NULL\n",
        "    - student_id: INT, FOREIGN KEY (students.id), NOT NULL\n",
        "    - immatriculation: STRING (e.g. \"2021FS\"), NOT NULL\n",
        "    - exmatriculation: STRING (e.g. \"2021FS\"), **NULLABLE**\n",
        "- Table `courses`:\n",
        "    - id: INT, PRIMARY KEY, NOT NULL\n",
        "    - name: STRING, NOT NULL\n",
        "    - category: STRING, NOT NULL\n",
        "- Table `enrollments`:\n",
        "    - id: INT, PRIMARY KEY, NOT NULL\n",
        "    - student_id: INT, FOREIGN KEY (student.id), NOT NULL\n",
        "    - course_id: INT, FOREIGN KEY (courses.id), NOT NULL\n",
        "    - semester: STRING (e.g. \"2021FS\"), NOT NULL\n",
        "- Table `grades`:\n",
        "    - id: INT, PRIMARY KEY, NOT NULL\n",
        "    - enrollment_id: INT, FOREIGN KEY (enrollment.id), NOT NULL\n",
        "    - grade: REAL/FLOAT, NOT NULL (Value between 1.0-6.0 in 0.25 steps)"
      ]
    },
    {
      "cell_type": "code",
      "metadata": {
        "colab": {
          "base_uri": "https://localhost:8080/"
        },
        "id": "Vatx0Y8BIgKi",
        "outputId": "95825c3b-2960-4863-d9ce-96092a93491b"
      },
      "source": [
        "# Example Entries for each table:\n",
        "print('Table \"students\"\\n',      pd.read_sql(\"\"\"SELECT * FROM students LIMIT 5\"\"\",      DB, index_col=['id']), '\\n')\n",
        "print('Table \"registrations\"\\n', pd.read_sql(\"\"\"SELECT * FROM registrations LIMIT 5\"\"\", DB, index_col=['id']), '\\n')\n",
        "print('Table \"courses\"\\n',       pd.read_sql(\"\"\"SELECT * FROM courses LIMIT 5\"\"\",       DB, index_col=['id']), '\\n')\n",
        "print('Table \"enrollments\"\\n',   pd.read_sql(\"\"\"SELECT * FROM enrollments LIMIT 5\"\"\",   DB, index_col=['id']), '\\n')\n",
        "print('Table \"grades\"\\n',        pd.read_sql(\"\"\"SELECT * FROM grades LIMIT 5\"\"\",        DB, index_col=['id']), '\\n')"
      ],
      "execution_count": 11,
      "outputs": [
        {
          "output_type": "stream",
          "text": [
            "Table \"students\"\n",
            "                first_name last_name date_of_birth\n",
            "id                                               \n",
            "50000         Cheryl Elsa     Stace    1998-08-28\n",
            "50001  Nolan Berry Carrol   Beghtol    1999-11-20\n",
            "50002             Julieta   Winsted    1999-03-28\n",
            "50003              Edward   Schlipp    1997-04-06\n",
            "50004               Ashly     Kubal    1996-07-18 \n",
            "\n",
            "Table \"registrations\"\n",
            "     student_id immatriculation exmatriculation\n",
            "id                                            \n",
            "0        50000          2018FS            None\n",
            "1        50001          2020FS            None\n",
            "2        50002          2021FS            None\n",
            "3        50003          2018HS          2021FS\n",
            "4        50004          2015FS          2019HS \n",
            "\n",
            "Table \"courses\"\n",
            "                                           name   category\n",
            "id                                                       \n",
            "100   Fundamentals of Faster-Than-Light Travel    physics\n",
            "200                    The Mass-Duality Scheme    physics\n",
            "300             Economics of Failed Capitalism    history\n",
            "400  Economics in the time of Food Replicators  economics\n",
            "500        Differences in Jupiter and Luna Law        law \n",
            "\n",
            "Table \"enrollments\"\n",
            "     student_id  course_id semester\n",
            "id                                \n",
            "0        50000       1100   2019HS\n",
            "1        50000       1800   2019HS\n",
            "2        50000       1500   2019HS\n",
            "3        50000       1900   2019HS\n",
            "4        50000       2000   2020FS \n",
            "\n",
            "Table \"grades\"\n",
            "     enrollment_id  grade\n",
            "id                      \n",
            "0               0   4.50\n",
            "1               1   5.25\n",
            "2               2   5.00\n",
            "3               3   4.50\n",
            "4               4   4.25 \n",
            "\n"
          ],
          "name": "stdout"
        }
      ]
    },
    {
      "cell_type": "markdown",
      "metadata": {
        "id": "v8_dsTSAIgKi"
      },
      "source": [
        "---\n",
        "# Task 1: Playing with students\n",
        "\n",
        "Use the given database `DB` to query the subsequent tasks.\n",
        "\n",
        "Each task can be solved with one single query. Try **not** touse Python or Pandas methods for sorting, selecting, or other purposes.\n",
        "\n",
        "However, you can use multiple queries and use the intermediate results for the next query."
      ]
    },
    {
      "cell_type": "markdown",
      "metadata": {
        "id": "Qa3p1bSfIgKj"
      },
      "source": [
        "## Task 1.1: How Many Students?\n",
        "\n",
        "Query the database `DB` and count how many students are in the database. Use the `pd.read_sql()` function with your query as the first parameter and the database connection `DB` as the second parameter.\n",
        "We don't care about the ID, and using an ID with an aggregation function like `COUNT()`, doesn't return one anyway, so do **not** tell pandas that there is an `index_col`.\n",
        "\n",
        "Save the result of the query in the variable `number_of_students`."
      ]
    },
    {
      "cell_type": "code",
      "metadata": {
        "id": "amLps8baIgKj"
      },
      "source": [
        "# ⬇️ Add your code below this line ⬇️\n",
        "\n",
        "number_of_students =pd.read_sql(\"\"\" SELECT count(*) FROM students\"\"\",DB)\n",
        "\n",
        "\n",
        "\n",
        "# ⬆️ Add your code above this line ⬆️"
      ],
      "execution_count": 15,
      "outputs": []
    },
    {
      "cell_type": "code",
      "metadata": {
        "colab": {
          "base_uri": "https://localhost:8080/"
        },
        "id": "Z0KNCJP5IgKk",
        "outputId": "bb7b939d-4185-4068-c424-99125980d586"
      },
      "source": [
        "# Test Case\n",
        "from unittest import TestCase\n",
        "__ = TestCase()\n",
        "\n",
        "# Sanity\n",
        "__.assertTrue('number_of_students' in locals(), msg='You have to call the result `number_of_students`.')\n",
        "__.assertIsInstance(number_of_students, pd.DataFrame, msg='Store the result directly in the variable.')\n",
        "\n",
        "# Actual Test\n",
        "__.assertEqual(1, len(number_of_students), msg=\"The result can only have one result.\")\n",
        "__.assertEqual(4269, number_of_students.iloc[0].item(), msg=\"The number in your result is not correct.\")\n",
        "\n",
        "\n",
        "print(\"\\n\\033[37;42;2m  Success! Your code works as intended.  \\033[0m\\n\")"
      ],
      "execution_count": 16,
      "outputs": [
        {
          "output_type": "stream",
          "text": [
            "\n",
            "\u001b[37;42;2m  Success! Your code works as intended.  \u001b[0m\n",
            "\n"
          ],
          "name": "stdout"
        }
      ]
    },
    {
      "cell_type": "markdown",
      "metadata": {
        "id": "l771rW55IgKk"
      },
      "source": [
        "## Task 1.2: Students that share a specific birthday\n",
        "\n",
        "Query the database `DB` and return the names (both `first_name` and `last_name`) who have birthday on **May 4th, 2001**.\n",
        "\n",
        "Store the result of the query using `pd.read_sql` in the variable `may_4th`.\n",
        "\n",
        "_Hint: In SQL, you can generate a new date with the `DATE()` function. It takes one SQL string is the format YYYY-MM-DD and creates an internal date object which is compatible with the `date_of_birth` column of the `students` table._\n",
        "\n",
        "For printing the result, or accessing the results, you can use the `.itertuples()` method of a query result. What you get back is an _iterable_ that contains the result from your query as tuples. If you gave _pandas_ the parameter `index_col`, the first entry in the tuple will be the actual `id` of this row. The next items in the tuple are in the same order as you gave in the `SELECT` statement.\n",
        "\n",
        "For this task, you are required to only select the id, first, and last name from the students. So, when calling `may_4th.itertuples()`, you'll receive a tuple with three entries: (index, first_name, last_name)."
      ]
    },
    {
      "cell_type": "code",
      "metadata": {
        "colab": {
          "base_uri": "https://localhost:8080/"
        },
        "id": "UVlFgAkmIgKk",
        "outputId": "abe70942-20a6-49b9-cf63-1e025ee94716"
      },
      "source": [
        "# ⬇️ Add your code below this line ⬇️\n",
        "\n",
        "may_4th =pd.read_sql(\"\"\" SELECT first_name, last_name FROM students WHERE date_of_birth == \"2001-05-04\" \"\"\", DB)\n",
        "\n",
        "may_4th.itertuples()\n",
        "\n",
        "\n",
        "\n",
        "\n",
        "# ⬆️ Add your code above this line ⬆️\n",
        "\n",
        "print(\"Following people share their birthday on May 4th, 2000\")\n",
        "for i, first_name, last_name in may_4th.itertuples():\n",
        "    print(f' - {first_name} {last_name}')"
      ],
      "execution_count": 41,
      "outputs": [
        {
          "output_type": "stream",
          "text": [
            "Following people share their birthday on May 4th, 2000\n",
            " - Sylvester Olufson\n",
            " - Sal Orlando Cables\n"
          ],
          "name": "stdout"
        }
      ]
    },
    {
      "cell_type": "code",
      "metadata": {
        "colab": {
          "base_uri": "https://localhost:8080/"
        },
        "id": "n35wMgkdIgKl",
        "outputId": "6ccd107d-9c72-463e-8196-de366c18334f"
      },
      "source": [
        "# Test Case\n",
        "from unittest import TestCase\n",
        "__ = TestCase()\n",
        "\n",
        "# Sanity\n",
        "__.assertTrue('may_4th' in locals(), msg='You have to call the result `may_4th`.')\n",
        "__.assertIsInstance(may_4th, pd.DataFrame, msg='Store the result directly in the variable.')\n",
        "\n",
        "# Actual Test\n",
        "__.assertEqual(2, len(may_4th), msg=\"The result must have two entries.\")\n",
        "__.assertEqual(may_4th.columns.to_list(), ['first_name', 'last_name'], msg='You have to select only the first and last name.')\n",
        "\n",
        "# Equality\n",
        "__.assertEqual({('Sylvester', 'Olufson'), ('Sal Orlando', 'Cables')}, set((_i.first_name, _i.last_name) for _i in may_4th.itertuples()))\n",
        "\n",
        "\n",
        "print(\"\\n\\033[37;42;2m  Success! Your code works as intended.  \\033[0m\\n\")"
      ],
      "execution_count": 42,
      "outputs": [
        {
          "output_type": "stream",
          "text": [
            "\n",
            "\u001b[37;42;2m  Success! Your code works as intended.  \u001b[0m\n",
            "\n"
          ],
          "name": "stdout"
        }
      ]
    },
    {
      "cell_type": "markdown",
      "metadata": {
        "id": "cctsU8V6IgKl"
      },
      "source": [
        "---\n",
        "## Task 1.3: Students who are 25 years old.\n",
        "\n",
        "Query the `DB` for students' first and last name who are 25 years old. Save the result of the query in the variable `age_25`. If you select the `id` as well, you have to tell pandas that this column is the index column.\n",
        "\n",
        "As the reference date you **must** use April 1st, 2021. You can generate this date with `DATE('2021-04-01')`. If you fail to use this date, the test will fail. (In a real-live scenario, you would, of course, use the current day.)\n",
        "\n",
        "_Hint: You can compute a student's age by the difference from the current day and the date of birth. Example:_\n",
        "```sql\n",
        "SELECT DATE('2010-01-01') - DATE('2000-01-01')\n",
        "```\n",
        "⇒ 10 (years)\n",
        "\n",
        "Do not overcomplicate the age computation. Use above computation as template."
      ]
    },
    {
      "cell_type": "code",
      "metadata": {
        "id": "fsug1jnEIgKl"
      },
      "source": [
        "# ⬇️ Add your code below this line ⬇️\n",
        "age_25 = pd.read_sql(\"SELECT id, first_name, last_name FROM students WHERE date_of_birth -    \",DB, index_col=[\"id\"])\n",
        "\n",
        "\n",
        "\n",
        "# ⬆️ Add your code above this line ⬆️"
      ],
      "execution_count": 57,
      "outputs": []
    },
    {
      "cell_type": "code",
      "metadata": {
        "colab": {
          "base_uri": "https://localhost:8080/",
          "height": 375
        },
        "id": "mrN8I7IjIgKl",
        "outputId": "07204d7e-772b-450f-f370-60ca680ae7e7"
      },
      "source": [
        "# Test Case\n",
        "from unittest import TestCase\n",
        "__ = TestCase()\n",
        "\n",
        "# Sanity Check\n",
        "__.assertTrue('age_25' in locals(), msg='You have to call it `age_25`.')\n",
        "__.assertIsInstance(age_25, pd.DataFrame, msg='Store the result directly in `age_25`.')\n",
        "\n",
        "# Check of length\n",
        "__.assertEqual(age_25.columns.to_list(), ['first_name', 'last_name'], msg='You have to select only the first and last name.')\n",
        "__.assertEqual(len(age_25), 690, msg='The resulting list MUST have 679 entries. It seems like your WHERE clause is not correct.')\n",
        "\n",
        "\n",
        "print(\"\\n\\033[37;42;2m  Success! Your code works as intended.  \\033[0m\\n\")"
      ],
      "execution_count": 58,
      "outputs": [
        {
          "output_type": "error",
          "ename": "AssertionError",
          "evalue": "ignored",
          "traceback": [
            "\u001b[0;31m---------------------------------------------------------------------------\u001b[0m",
            "\u001b[0;31mAssertionError\u001b[0m                            Traceback (most recent call last)",
            "\u001b[0;32m<ipython-input-58-f01fc661c5f0>\u001b[0m in \u001b[0;36m<module>\u001b[0;34m()\u001b[0m\n\u001b[1;32m      9\u001b[0m \u001b[0;31m# Check of length\u001b[0m\u001b[0;34m\u001b[0m\u001b[0;34m\u001b[0m\u001b[0;34m\u001b[0m\u001b[0m\n\u001b[1;32m     10\u001b[0m \u001b[0m__\u001b[0m\u001b[0;34m.\u001b[0m\u001b[0massertEqual\u001b[0m\u001b[0;34m(\u001b[0m\u001b[0mage_25\u001b[0m\u001b[0;34m.\u001b[0m\u001b[0mcolumns\u001b[0m\u001b[0;34m.\u001b[0m\u001b[0mto_list\u001b[0m\u001b[0;34m(\u001b[0m\u001b[0;34m)\u001b[0m\u001b[0;34m,\u001b[0m \u001b[0;34m[\u001b[0m\u001b[0;34m'first_name'\u001b[0m\u001b[0;34m,\u001b[0m \u001b[0;34m'last_name'\u001b[0m\u001b[0;34m]\u001b[0m\u001b[0;34m,\u001b[0m \u001b[0mmsg\u001b[0m\u001b[0;34m=\u001b[0m\u001b[0;34m'You have to select only the first and last name.'\u001b[0m\u001b[0;34m)\u001b[0m\u001b[0;34m\u001b[0m\u001b[0;34m\u001b[0m\u001b[0m\n\u001b[0;32m---> 11\u001b[0;31m \u001b[0m__\u001b[0m\u001b[0;34m.\u001b[0m\u001b[0massertEqual\u001b[0m\u001b[0;34m(\u001b[0m\u001b[0mlen\u001b[0m\u001b[0;34m(\u001b[0m\u001b[0mage_25\u001b[0m\u001b[0;34m)\u001b[0m\u001b[0;34m,\u001b[0m \u001b[0;36m690\u001b[0m\u001b[0;34m,\u001b[0m \u001b[0mmsg\u001b[0m\u001b[0;34m=\u001b[0m\u001b[0;34m'The resulting list MUST have 679 entries. It seems like your WHERE clause is not correct.'\u001b[0m\u001b[0;34m)\u001b[0m\u001b[0;34m\u001b[0m\u001b[0;34m\u001b[0m\u001b[0m\n\u001b[0m\u001b[1;32m     12\u001b[0m \u001b[0;34m\u001b[0m\u001b[0m\n\u001b[1;32m     13\u001b[0m \u001b[0;34m\u001b[0m\u001b[0m\n",
            "\u001b[0;32m/usr/lib/python3.7/unittest/case.py\u001b[0m in \u001b[0;36massertEqual\u001b[0;34m(self, first, second, msg)\u001b[0m\n\u001b[1;32m    850\u001b[0m         \"\"\"\n\u001b[1;32m    851\u001b[0m         \u001b[0massertion_func\u001b[0m \u001b[0;34m=\u001b[0m \u001b[0mself\u001b[0m\u001b[0;34m.\u001b[0m\u001b[0m_getAssertEqualityFunc\u001b[0m\u001b[0;34m(\u001b[0m\u001b[0mfirst\u001b[0m\u001b[0;34m,\u001b[0m \u001b[0msecond\u001b[0m\u001b[0;34m)\u001b[0m\u001b[0;34m\u001b[0m\u001b[0;34m\u001b[0m\u001b[0m\n\u001b[0;32m--> 852\u001b[0;31m         \u001b[0massertion_func\u001b[0m\u001b[0;34m(\u001b[0m\u001b[0mfirst\u001b[0m\u001b[0;34m,\u001b[0m \u001b[0msecond\u001b[0m\u001b[0;34m,\u001b[0m \u001b[0mmsg\u001b[0m\u001b[0;34m=\u001b[0m\u001b[0mmsg\u001b[0m\u001b[0;34m)\u001b[0m\u001b[0;34m\u001b[0m\u001b[0;34m\u001b[0m\u001b[0m\n\u001b[0m\u001b[1;32m    853\u001b[0m \u001b[0;34m\u001b[0m\u001b[0m\n\u001b[1;32m    854\u001b[0m     \u001b[0;32mdef\u001b[0m \u001b[0massertNotEqual\u001b[0m\u001b[0;34m(\u001b[0m\u001b[0mself\u001b[0m\u001b[0;34m,\u001b[0m \u001b[0mfirst\u001b[0m\u001b[0;34m,\u001b[0m \u001b[0msecond\u001b[0m\u001b[0;34m,\u001b[0m \u001b[0mmsg\u001b[0m\u001b[0;34m=\u001b[0m\u001b[0;32mNone\u001b[0m\u001b[0;34m)\u001b[0m\u001b[0;34m:\u001b[0m\u001b[0;34m\u001b[0m\u001b[0;34m\u001b[0m\u001b[0m\n",
            "\u001b[0;32m/usr/lib/python3.7/unittest/case.py\u001b[0m in \u001b[0;36m_baseAssertEqual\u001b[0;34m(self, first, second, msg)\u001b[0m\n\u001b[1;32m    843\u001b[0m             \u001b[0mstandardMsg\u001b[0m \u001b[0;34m=\u001b[0m \u001b[0;34m'%s != %s'\u001b[0m \u001b[0;34m%\u001b[0m \u001b[0m_common_shorten_repr\u001b[0m\u001b[0;34m(\u001b[0m\u001b[0mfirst\u001b[0m\u001b[0;34m,\u001b[0m \u001b[0msecond\u001b[0m\u001b[0;34m)\u001b[0m\u001b[0;34m\u001b[0m\u001b[0;34m\u001b[0m\u001b[0m\n\u001b[1;32m    844\u001b[0m             \u001b[0mmsg\u001b[0m \u001b[0;34m=\u001b[0m \u001b[0mself\u001b[0m\u001b[0;34m.\u001b[0m\u001b[0m_formatMessage\u001b[0m\u001b[0;34m(\u001b[0m\u001b[0mmsg\u001b[0m\u001b[0;34m,\u001b[0m \u001b[0mstandardMsg\u001b[0m\u001b[0;34m)\u001b[0m\u001b[0;34m\u001b[0m\u001b[0;34m\u001b[0m\u001b[0m\n\u001b[0;32m--> 845\u001b[0;31m             \u001b[0;32mraise\u001b[0m \u001b[0mself\u001b[0m\u001b[0;34m.\u001b[0m\u001b[0mfailureException\u001b[0m\u001b[0;34m(\u001b[0m\u001b[0mmsg\u001b[0m\u001b[0;34m)\u001b[0m\u001b[0;34m\u001b[0m\u001b[0;34m\u001b[0m\u001b[0m\n\u001b[0m\u001b[1;32m    846\u001b[0m \u001b[0;34m\u001b[0m\u001b[0m\n\u001b[1;32m    847\u001b[0m     \u001b[0;32mdef\u001b[0m \u001b[0massertEqual\u001b[0m\u001b[0;34m(\u001b[0m\u001b[0mself\u001b[0m\u001b[0;34m,\u001b[0m \u001b[0mfirst\u001b[0m\u001b[0;34m,\u001b[0m \u001b[0msecond\u001b[0m\u001b[0;34m,\u001b[0m \u001b[0mmsg\u001b[0m\u001b[0;34m=\u001b[0m\u001b[0;32mNone\u001b[0m\u001b[0;34m)\u001b[0m\u001b[0;34m:\u001b[0m\u001b[0;34m\u001b[0m\u001b[0;34m\u001b[0m\u001b[0m\n",
            "\u001b[0;31mAssertionError\u001b[0m: 4269 != 690 : The resulting list MUST have 679 entries. It seems like your WHERE clause is not correct."
          ]
        }
      ]
    },
    {
      "cell_type": "markdown",
      "metadata": {
        "id": "HsRQAvd6IgKm"
      },
      "source": [
        "---\n",
        "## Task 1.4: Student ID\n",
        "\n",
        "Query the database for the Student ID of the student _Arthur Callaham_. Use pandas' index column feature.\n",
        "\n",
        "Save the result of the query directly as the variable `arthur_id`."
      ]
    },
    {
      "cell_type": "code",
      "metadata": {
        "id": "6zhveVYpIgKm"
      },
      "source": [
        "# ⬇️ Add your code below this line ⬇️\n",
        "\n",
        "\n",
        "\n",
        "# ⬆️ Add your code above this line ⬆️"
      ],
      "execution_count": null,
      "outputs": []
    },
    {
      "cell_type": "code",
      "metadata": {
        "id": "AwJvPRaMIgKm"
      },
      "source": [
        "# Test Case\n",
        "from unittest import TestCase\n",
        "__ = TestCase()\n",
        "\n",
        "# Sanity\n",
        "__.assertTrue('arthur_id' in locals(), msg='You have to call the result `arthur_id`.')\n",
        "__.assertIsInstance(arthur_id, pd.DataFrame, msg='Store the result directly in the variable.')\n",
        "\n",
        "# Actual Test\n",
        "__.assertEqual(1, len(arthur_id), msg=\"The result must have one entry.\")\n",
        "__.assertEqual(arthur_id.columns.to_list(), [], msg='There will be no columns because the selected entry is the ID.')\n",
        "\n",
        "# Equality\n",
        "__.assertEqual(50913, arthur_id.index)\n",
        "\n",
        "\n",
        "print(\"\\n\\033[37;42;2m  Success! Your code works as intended.  \\033[0m\\n\")"
      ],
      "execution_count": null,
      "outputs": []
    },
    {
      "cell_type": "markdown",
      "metadata": {
        "id": "_iYRiN0iIgKm"
      },
      "source": [
        "---\n",
        "# Task 2: Modifying the Database\n",
        "Be careful when using `INSERT`, `DELETE`, and `UPDATE` statements because they modify the database. If you find yourself in trouble, you can always replace the database file `database.sqlite` AND reload the database (see Task 0) or restart the kernel.\n",
        "\n",
        "Because of _foreign key_ constraints, you have to be careful with the order of inserting.\n",
        "\n",
        "When writing into the database, you **HAVE TO** use the following structure\n",
        "\n",
        "```python\n",
        "with DB:\n",
        "    DB.execute(\"\"\"INSERT INTO ...\"\"\")\n",
        "```\n",
        "\n",
        "If you don't do this, you might end up with a **locked** database. A kernel restart is your only solution then.\n",
        "\n",
        "After modifying the database, the test cases for Task 1 might fail, especially the ones for counting the students because you're adding a new student in Task 1.2. So make sure, that your code works **BEFORE** modifying the database."
      ]
    },
    {
      "cell_type": "markdown",
      "metadata": {
        "id": "YreEmrH5IgKm"
      },
      "source": [
        "---\n",
        "## Task 2.1: Adding yourself to the Database.\n",
        "You want to add yourself to the database and enroll into a few courses and receive grades. However, there is no nice interface, so you have to work on the real database.\n",
        "None of the ids are auto-generated, so you have to always use an ID that is not in use. The description below tells you which one you have to set.\n",
        "\n",
        "\n",
        "Add yourself to the database:\n",
        "\n",
        "1. Add yourself into the `students` table:\n",
        "    - Use your actual first and last name.\n",
        "    - The date_of_birth must be of form \"YYYY-MM-DD\" (e.g. \"1994-03-14\")\n",
        "    - As student id, use the integer 60000.\n",
        "1. Register with the university.\n",
        "    - Add a new entry to the `registration` table.\n",
        "    - Use the registration id 10000.\n",
        "    - Use the current semester \"2021FS\" as immatriculation.\n",
        "    - Either set exmatrculation to NULL or don't set it at all (it defaults to NULL)\n",
        "1. Enroll into at least 2 courses (You probably have to find all courses first)\n",
        "    - Use a SELECT to show all courses and print them using `.itertuples()` like Task 1.2 shows.\n",
        "    - Choose 2 courses and INSERT them into the enrollments table.\n",
        "    - Start with ID 40000 for adding your enrollments.\n",
        "    - Use the current semester \"2021FS\" as semester.\n",
        "1. Add grades:\n",
        "    - Add grades of your liking for you for the courses you just added.\n",
        "    - The grade id will be the same as the enrollment ids (starting from 40000 and upwards)\n",
        "    \n",
        "\n",
        "\n",
        "There is no test case for this task.\n",
        "\n",
        "Use `SELECT`s in different cells to verify you added the entries correctly. Use as many cells as you need."
      ]
    },
    {
      "cell_type": "code",
      "metadata": {
        "id": "Fk7FngdJIgKn"
      },
      "source": [
        "# ⬇️ Add your code below this cell ⬇️\n",
        "\n",
        "\n",
        "\n"
      ],
      "execution_count": null,
      "outputs": []
    },
    {
      "cell_type": "code",
      "metadata": {
        "id": "tT-Z3tVhIgKn"
      },
      "source": [
        ""
      ],
      "execution_count": null,
      "outputs": []
    },
    {
      "cell_type": "code",
      "metadata": {
        "id": "YlzqFtQHIgKn"
      },
      "source": [
        ""
      ],
      "execution_count": null,
      "outputs": []
    },
    {
      "cell_type": "code",
      "metadata": {
        "id": "yBUkv_XMIgKn"
      },
      "source": [
        "# Verify with a SELECT that your changes are actually there:\n",
        "\n",
        "\n",
        "# ⬆️ Add your code above this line ⬆️"
      ],
      "execution_count": null,
      "outputs": []
    },
    {
      "cell_type": "markdown",
      "metadata": {
        "id": "1nQ_XxmJIgKn"
      },
      "source": [
        "---\n",
        "## Task 2.2: Updating Categories\n",
        "\n",
        "If you look the course categories more closely, you can see that the 3 courses with the highest ID are in the wrong category 'medicine'. They should be in the category \"computer science\".\n",
        "\n",
        "Use a `UPDATE` statement to change the category for (**and only for**) these 3 entries."
      ]
    },
    {
      "cell_type": "code",
      "metadata": {
        "id": "lx1yDUUCIgKn"
      },
      "source": [
        "# ⬇️ Add your code below this line ⬇️\n",
        "\n"
      ],
      "execution_count": null,
      "outputs": []
    },
    {
      "cell_type": "code",
      "metadata": {
        "id": "YDEk2XG3IgKo"
      },
      "source": [
        ""
      ],
      "execution_count": null,
      "outputs": []
    },
    {
      "cell_type": "code",
      "metadata": {
        "id": "HrkzrhPaIgKo"
      },
      "source": [
        ""
      ],
      "execution_count": null,
      "outputs": []
    },
    {
      "cell_type": "code",
      "metadata": {
        "id": "DC8r1B7HIgKo"
      },
      "source": [
        "# Verify with a SELECT that your changes are actually there:\n",
        "\n",
        "\n",
        "# ⬆️ Add your code above this line ⬆️"
      ],
      "execution_count": null,
      "outputs": []
    },
    {
      "cell_type": "markdown",
      "metadata": {
        "id": "FYpEuxrBIgKo"
      },
      "source": [
        "---\n",
        "# Task 3: Courses of one student\n",
        "\n",
        "Use the just found id of Arthur to find all the names of all courses that he is and was enrolled in any semester. Use a `SELECT DISTINCT` to remove duplicate enrollments.\n",
        "\n",
        "You don't need to use a variable but simply copy the actual ID into your query of the result from Task 1.4. (If you didn't find it, use the ID 53846.)\n",
        "\n",
        "Store your result in the variable `course_ids`.\n",
        "\n",
        "Unfortunately, the course name is not stored in the `enrollments` table. So you can either query **multiple** tables at the same time (`JOIN`) or first extract the appropriate distinct ids and then hardcode them into a new query.\n",
        "\n",
        "_Hint:_ Similar to Python, you can check if a value is in a given list in the `WHERE` clause:\n",
        "\n",
        "```sql\n",
        "...\n",
        "WHERE id IN (1, 2, 3, 4, 5)\n",
        "...\n",
        "```\n"
      ]
    },
    {
      "cell_type": "code",
      "metadata": {
        "id": "QRkOzBR2IgKo"
      },
      "source": [
        "# ⬇️ Add your code below this line ⬇️\n",
        "\n",
        "\n",
        "\n",
        "# ⬆️ Add your code above this line ⬆️"
      ],
      "execution_count": null,
      "outputs": []
    },
    {
      "cell_type": "code",
      "metadata": {
        "id": "kuXTH1dbIgKp"
      },
      "source": [
        "# Test Case\n",
        "from unittest import TestCase\n",
        "__ = TestCase()\n",
        "\n",
        "# Sanity Check\n",
        "__.assertTrue('course_names' in locals(), msg='You have to call it `course_names`.')\n",
        "__.assertIsInstance(course_names, pd.DataFrame, msg='Store the result directly in `course_names`.')\n",
        "\n",
        "# Check of length\n",
        "__.assertEqual(len(course_names.columns), 1, msg='You have to select only the name of the course (The result has ONE column.)')\n",
        "__.assertEqual(len(course_names), 6, msg='The resulting list must have 6 entries. Did you use DISTINCT?')\n",
        "\n",
        "# Actual Check\n",
        "__.assertEqual(\n",
        "    {'Advanced Applications of Gene-Splicing',\n",
        "     'Business Cases for Time-Travel',\n",
        "     'Fundamentals of Faster-Than-Light Travel',\n",
        "     'Fundamentals of Space-Time-Travel',\n",
        "     'History of Space-Time-Travel',\n",
        "     'Introduction to 5G-Brainwave Interception'},\n",
        "    set(course_names.iloc[:, 0])\n",
        ")\n",
        "\n",
        "\n",
        "print(\"\\n\\033[37;42;2m  Success! Your code works as intended.  \\033[0m\\n\")"
      ],
      "execution_count": null,
      "outputs": []
    },
    {
      "cell_type": "markdown",
      "metadata": {
        "id": "X4pj6MZTIgKp"
      },
      "source": [
        "---\n",
        "# Task 4: Average Grade for one specific Student\n",
        "\n",
        "Now, you know the ID and enrolled courses of Mr. Callaham. The next step is to compute the average of all his grades.\n",
        "\n",
        "For this task, you should use **all** grades from this student, although he took multiple courses multiple times.\n",
        "\n",
        "Store the result of the query in `average_grade`.\n",
        "\n",
        "Instead of a join, which you can use, of course (and is encouraged), you can use multiple queries to find the enrollments and grades for this one student\n",
        "\n",
        "\n",
        "_Hint: Computing the average is done by the function `AVG()` (analog to `COUNT()`) in the `SELECT` clause._"
      ]
    },
    {
      "cell_type": "code",
      "metadata": {
        "id": "FM8GpPrPIgKp"
      },
      "source": [
        "# ⬇️ Add your code below this line ⬇️\n",
        "\n",
        "\n",
        "\n",
        "# ⬆️ Add your code above this line ⬆️"
      ],
      "execution_count": null,
      "outputs": []
    },
    {
      "cell_type": "code",
      "metadata": {
        "id": "8FLfSZMdIgKp"
      },
      "source": [
        "# Test Case\n",
        "from unittest import TestCase\n",
        "__ = TestCase()\n",
        "\n",
        "# Sanity Check\n",
        "__.assertTrue('average_grade' in locals(), msg='You have to call it `rabb_average_grade`.')\n",
        "__.assertIsInstance(average_grade, pd.DataFrame, msg='Store the result directly in `rabb_average_grade`.')\n",
        "\n",
        "# Check of length\n",
        "__.assertEqual(len(average_grade.columns), 1, msg='You have to select only the average of the grades (The result has ONE column.)')\n",
        "__.assertEqual(len(average_grade), 1, msg='The resulting list must have 1 entry.')\n",
        "\n",
        "# Actual Check\n",
        "__.assertEqual(3.5, average_grade.round(2).iloc[0].item(), msg='The average grade should be 3.5 (if rounded to 2 decimals).')\n",
        "\n",
        "\n",
        "print(\"\\n\\033[37;42;2m  Success! Your code works as intended.  \\033[0m\\n\")"
      ],
      "execution_count": null,
      "outputs": []
    },
    {
      "cell_type": "markdown",
      "metadata": {
        "id": "zrouH_gPIgKq"
      },
      "source": [
        "---\n",
        "## Task 4.2: Top 10 Students\n",
        "\n",
        "You want to find new tutors for next semester, so you need good students. For this, you want the 10 best students that are currently registered (meaning that they are not exmatriculated) and that are registered for at least 3 semesters, meaning their immatriculation semester is at least \"2020FS\".\n",
        "\n",
        "Select the id, first name, last name, and average of the 10 best students. Use `index_col=['id']` to tell pandas that the `id` column is the one for the index.\n",
        "\n",
        "Save the result of the query in the variable `top10`.\n",
        "\n",
        "The students are ranked by their average grades of all their courses, multiple enrollments count also towards this average.\n",
        "\n",
        "You will need all tables except `courses`. \n",
        "\n",
        "For the average of all students, you need the `GROUP BY` clause. There might be students with the same name combiation, so you have to find a better way for **id**entifying a student.\n",
        "\n",
        "If you have the averages of all students, how can you select the ones with the highest average? How would you do it Python? The `ORDER BY` clause will help you.\n",
        "\n",
        "The clause `LIMIT X` limits the number of returned rows to `X`, so set this wisely."
      ]
    },
    {
      "cell_type": "code",
      "metadata": {
        "id": "1Bhkarv7IgKq"
      },
      "source": [
        "# ⬇️ Add your code below this line ⬇️\n",
        "\n",
        "\n",
        "\n",
        "# ⬆️ Add your code above this line ⬆️"
      ],
      "execution_count": null,
      "outputs": []
    },
    {
      "cell_type": "code",
      "metadata": {
        "id": "Em2Y-pZgIgKq"
      },
      "source": [
        "# Test Case\n",
        "from unittest import TestCase\n",
        "__ = TestCase()\n",
        "\n",
        "# Sanity Check\n",
        "__.assertTrue('top10' in locals(), msg='You have to call it `top10`.')\n",
        "__.assertIsInstance(top10, pd.DataFrame, msg='Store the result directly in `top10`.')\n",
        "\n",
        "# Check of length\n",
        "__.assertEqual(len(top10.columns), 3, msg='You have to select the first name, last name, and average.')\n",
        "__.assertEqual(len(top10), 10, msg='The resulting list must have 10 entries.')\n",
        "\n",
        "# Actual Check\n",
        "__.assertEqual(list(top10.index), [50722, 52981, 53994, 54096, 51921, 53023, 52045, 51726, 51767, 51633], msg='Your list differs.')\n",
        "\n",
        "\n",
        "print(\"\\n\\033[37;42;2m  Success! Your code works as intended.  \\033[0m\\n\")"
      ],
      "execution_count": null,
      "outputs": []
    },
    {
      "cell_type": "markdown",
      "metadata": {
        "id": "hvKna7hpIgKq"
      },
      "source": [
        "---\n",
        "# Task 5: Average grade for any student\n",
        "\n",
        "Now, we want to define a Python function `compute_average_grade(first_name, last_name)` that returns the average grade of the given student. (Like above, you have to return the result of the query.)\n",
        "\n",
        "For this task, you can assume that there are no two students with the same first and last name.\n",
        "\n",
        "You may want to test this by calling your function with the student _Arthur Callaham_ in order to compare results with Task 4.\n",
        "\n",
        "To set the parameters (the first and last name) **do not use format strings** to insert the values into the query. Instead use a `?` (question mark) where the parameter should be placed and use the `params=()`  paramter in the `pd.read_sql()` method to set the tuple in the order the questions marks appear.\n",
        "\n",
        "Example:\n",
        "```python\n",
        "pd.read_sql(\n",
        "    \"SELECT * FROM students WHERE id = ?\", # <-- one question mark where the ID should be\n",
        "    DB,\n",
        "    index_col=['id'],\n",
        "    params=(60000,)  # <-- Must be a Tuple, even if only one value!\n",
        ")\n",
        "```\n",
        "Multiple question marks correspond to multiple entries in the `params=()` tuple. The order is the ones the question marks appear!\n",
        "\n",
        "_Hints:_\n",
        "- You need multiple joins.\n",
        "- Only select the grade average (and the id for pandas `index_col`)."
      ]
    },
    {
      "cell_type": "code",
      "metadata": {
        "id": "yGuuuF8yIgKq"
      },
      "source": [
        "# ⬇️ Add your code below this line ⬇️\n",
        "\n",
        "\n",
        "\n",
        "# ⬆️ Add your code above this line ⬆️"
      ],
      "execution_count": null,
      "outputs": []
    },
    {
      "cell_type": "code",
      "metadata": {
        "id": "X56JrASWIgKr"
      },
      "source": [
        "# Test with this cell:\n",
        "avg_grade_result = compute_average_grade('Arthur', 'Callaham')\n",
        "for student_id, avg_grade in avg_grade_result.itertuples():\n",
        "    print(f\"Average Grade: {avg_grade}\")"
      ],
      "execution_count": null,
      "outputs": []
    },
    {
      "cell_type": "code",
      "metadata": {
        "id": "Ou49NHrUIgKr"
      },
      "source": [
        "# Test Case\n",
        "from unittest import TestCase\n",
        "__ = TestCase()\n",
        "\n",
        "# Sanity Check\n",
        "__.assertTrue('average_grade' in locals(), msg='You have to call it `average_grade`.')\n",
        "\n",
        "# Actual Check\n",
        "__.assertEqual(3.92, compute_average_grade('Arthur', 'Callaham').round(2).iloc[0].item())\n",
        "__.assertEqual(4.11, compute_average_grade('Cliff', 'Hairell').round(2).iloc[0].item())\n",
        "__.assertEqual(3.71, compute_average_grade('Leda', 'Bohannon').round(2).iloc[0].item())\n",
        "__.assertEqual(5.29, compute_average_grade('Adrian Eddy', 'Gargani').round(2).iloc[0].item())\n",
        "__.assertEqual(2.70, compute_average_grade('Shavonne', 'Vicenteno').round(2).iloc[0].item())\n",
        "\n",
        "\n",
        "print(\"\\n\\033[37;42;2m  Success! Your code works as intended.  \\033[0m\\n\")"
      ],
      "execution_count": null,
      "outputs": []
    },
    {
      "cell_type": "markdown",
      "metadata": {
        "id": "gJ-S74ZSIgKr"
      },
      "source": [
        "---\n",
        "# Task 6: Generating A _Report Card_ (Advanced, Not Part of Quiz 4)\n",
        "\n",
        "Now, we want to define a function `generate_report_card(first_name, last_name)` that generates a report card (=\"Zeugnis\") of the given student.\n",
        "\n",
        "This report card should be a string:\n",
        "```\n",
        "REPORT CARD for {last name}, {first name} ({Date of Birth})\n",
        "\n",
        "{for each semester}\n",
        "{Semester} {Grade} {Course}\n",
        "{endfor}\n",
        "\n",
        "{if registered}\n",
        "Current Grade: {Average Grade}\n",
        "{else}\n",
        "Final Grade: {Average Grade}\n",
        "{endif}\n",
        "```\n",
        "\n",
        "Example for Waldo Martire\n",
        "```\n",
        "\n",
        "    \n",
        "        REPORT CARD for Martire, Waldo (1996-01-12)\n",
        "    \n",
        "        Taken Courses:\n",
        "        \n",
        "\t2018FS\t4.75\tAgricultural Renaissance on Earth\n",
        "\t2018FS\t5.0\tFundamentals of Faster-Than-Light Travel\n",
        "\t2018HS\t4.75\tClassical Music from the Early 20s\n",
        "\t2019HS\t5.0\tThe Swissnese Occupation\n",
        "\t2020FS\t5.75\tThe Mass-Duality Scheme\n",
        "\t2020HS\t4.75\tThe Downfall of the Generic Relativity Theory\n",
        "\t2021FS\t5.25\tAncient Gender Constructs\n",
        "\t2021FS\t5.75\tEconomic Implications of Post-Quantum Stock Exchanges\n",
        "\n",
        "        \n",
        "        Final Grade: 5.125\n",
        "        \n",
        "```\n",
        "\n",
        "In a report card, we only want the succeeded courses, so any failed course (a grade smaller than 4.0) should **not** be added to the report and also **not** be part of the average (different than Task 5). If a student took a course multiple times, it will also be printed in the report card. (As an more advanced task, you could try to select the highest grade.)\n",
        "\n",
        "The courses report should be ordered in ascending order by the semester this course is taken. If there are multiple courses taken that semester, order the course names alphabetically in ascending order.\n",
        "\n",
        "For this task, you do not \"need\" `pd.read_sql()` but rather use `DB.execute()` to receive the plain results as tuples or lists instead of DataFrames.\n",
        "\n",
        "\n",
        "For example:\n",
        "```python\n",
        "DB.execute('SELECT first_name, last_name FROM students').fetchone()\n",
        "```\n",
        "will return a **Tuple** with the first result of this query. The order in the tuple will be the same as in the `SELECT`.\n",
        "```python\n",
        "DB.execute('SELECT first_name, last_name FROM students').fetchall()\n",
        "```\n",
        "The `.fetchall()` method will return a **list** of tuples with _ALL_ students from the database.\n",
        "\n",
        "For parametrized queries, go to the documentation: [sqlite3](https://docs.python.org/3/library/sqlite3.html).\n",
        "\n",
        "\n",
        "For this task, you can assume that there are no two students with the same first and last name."
      ]
    },
    {
      "cell_type": "markdown",
      "metadata": {
        "tags": [],
        "id": "KomZkI0eIgKr"
      },
      "source": [
        "_More Examples:_\n",
        "\n",
        "```python\n",
        "print(generate_report_card('Lawrence', 'Hammed'))\n",
        "```\n",
        "```\n",
        "\n",
        "        REPORT CARD for Hammed, Lawerence (2000-01-28)\n",
        "    \n",
        "        Taken Courses:\n",
        "        \n",
        "\t2019HS\t6.0\tEconomics in the time of Food Replicators\n",
        "\t2020FS\t4.5\tHistoric Reasons for Using the Swiss Grading System\n",
        "\t2020HS\t4.5\tEconomics in the time of Food Replicators\n",
        "\t2021FS\t5.0\tModels for Advanced Brain-Cell Stimulation\n",
        "\n",
        "        \n",
        "        Current Grade: 5.0\n",
        "```\n",
        "\n",
        "\n",
        "```python\n",
        "print(generate_report_card('Kena', 'Sharlow'))\n",
        "```\n",
        "```\n",
        "    \n",
        "        REPORT CARD for Sharlow, Kena (1999-12-14)\n",
        "    \n",
        "        Taken Courses:\n",
        "        \n",
        "\t2019HS\t4.5\tFundamentals of Space-Time-Travel\n",
        "\t2019HS\t4.0\tThe Downfall of the Generic Relativity Theory\n",
        "\t2020FS\t4.75\tAdvanced Micro-Biology of Implants\n",
        "\t2020HS\t4.0\tHistoric Reasons for Using the Swiss Grading System\n",
        "\t2020HS\t4.0\tHistory of Space-Time-Travel\n",
        "\t2021FS\t4.25\tAncient Gender Constructs\n",
        "\t2021FS\t4.75\tIntroduction to 5G-Brainwave Interception\n",
        "\n",
        "        \n",
        "        Final Grade: 4.321428571428571\n",
        "     \n",
        "```\n",
        "\n",
        "\n",
        "```python\n",
        "print(generate_report_card('Tonia', 'Goldhorn'))\n",
        "```\n",
        "```\n",
        "    \n",
        "        REPORT CARD for Goldhorn, Tonia (2000-12-02)\n",
        "    \n",
        "        Taken Courses:\n",
        "        \n",
        "\t2019HS\t4.25\tBusiness Cases for Time-Travel\n",
        "\t2019HS\t4.5\tFundamentals of Space-Time-Travel\n",
        "\t2019HS\t4.0\tFundamentals of Space-Time-Travel\n",
        "\t2020FS\t4.5\tAdvanced Applications of Gene-Splicing\n",
        "\t2020HS\t5.0\tBusiness Cases for Time-Travel\n",
        "\t2020HS\t4.75\tHistoric Reasons for Using the Swiss Grading System\n",
        "\t2021FS\t4.0\tBeginner Micro-Biology of Implants\n",
        "\n",
        "        \n",
        "        Current Grade: 4.428571428571429\n",
        "\n",
        "```"
      ]
    },
    {
      "cell_type": "code",
      "metadata": {
        "id": "duhg0BlsIgKs"
      },
      "source": [
        "# ⬇️ Add your code below this line ⬇️\n",
        "\n",
        "\n",
        "\n",
        "# ⬆️ Add your code above this line ⬆️"
      ],
      "execution_count": null,
      "outputs": []
    },
    {
      "cell_type": "code",
      "metadata": {
        "id": "n8n37Do7IgKs"
      },
      "source": [
        "# No test case (use the output in the task description to verify)\n",
        "\n",
        "# Use your newly added student (yourself!) to also print a report card:\n",
        "\n",
        "#print(generate_report_card(\"YOUR FIRST NAME\", \"YOUR LAST NAME\"))\n",
        "\n",
        "print(generate_report_card('Lawerence', 'Hammed'))\n",
        "print(generate_report_card('Kena', 'Sharlow'))\n",
        "print(generate_report_card('Tonia', 'Goldhorn'))"
      ],
      "execution_count": null,
      "outputs": []
    },
    {
      "cell_type": "code",
      "metadata": {
        "id": "lijEJ5BfIgKs"
      },
      "source": [
        "DB.close()"
      ],
      "execution_count": null,
      "outputs": []
    }
  ]
}